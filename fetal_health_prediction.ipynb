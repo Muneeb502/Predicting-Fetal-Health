{
 "cells": [
  {
   "cell_type": "markdown",
   "id": "f4aee62f-527d-44b3-8bd9-70414785d553",
   "metadata": {},
   "source": [
    "# Predicting Fetal Health: A Comprehensive Classification Study"
   ]
  },
  {
   "cell_type": "markdown",
   "id": "6d51a972-b7ac-4c0d-9d2f-2057ccfdc254",
   "metadata": {},
   "source": [
    "In the realm of fetal health classification, we embark on a vital mission to predict the well-being of unborn infants, and this task carries immense weight, touching the lives of expectant mothers and the most vulnerable among us. Our journey begins with a meticulous analysis of a comprehensive fetal health classification dataset—a treasure trove of 2126 records of features extracted from Cardiotocogram exams. These records were carefully classified into three classes: \"Normal,\" \"Suspect,\" and \"Pathological\" by three expert obstetricians, whose expertise and insights are invaluable in shaping our understanding of fetal health.\n",
    "\n",
    "Much like a symphony of strategies in a grand performance, we wield a trio of classifiers: linear regression, random forest, and decision tree. Each classifier possesses its unique strengths and methods, akin to the diverse tactics employed by teams on the field. With precision honed through rigorous training, these algorithms adapt to unveil critical insights, distinguishing between potential fetal health concerns and positive outcomes.\n",
    "\n",
    "Yet, fetal health classification extends beyond individual performance. It demands a deep understanding of the intricate interplay between health indicators, much like deciphering the tactics of rival teams. We delve into the dataset's depths, unveiling hidden patterns and identifying variables that signify fetal well-being or distress. This analytical journey mirrors the art of studying opponents' strategies to gain an edge.\n",
    "\n",
    "While the applause may be silent in the laboratory, the significance of our work cannot be overstated. These classifiers empower healthcare professionals to make informed decisions, ensuring the well-being of both unborn children and expectant mothers. In this realm, your role is indispensable, much like an unsung hero, translating data into actionable insights that shape the course of future generations' health—a testament to the power of data and innovation in the world of healthcare."
   ]
  },
  {
   "cell_type": "markdown",
   "id": "b5134653-c34d-442c-ad30-f3a73edcf2e9",
   "metadata": {},
   "source": [
    "# Module 1"
   ]
  },
  {
   "cell_type": "markdown",
   "id": "1604ad55-f7fd-46e1-9875-875895ef3ea0",
   "metadata": {},
   "source": [
    "## Task 1: Data Dive: Exploring Fetal Health Insights"
   ]
  },
  {
   "cell_type": "code",
   "execution_count": null,
   "id": "1cd0831f-18c7-4130-bf63-2c17a3a347f2",
   "metadata": {},
   "outputs": [],
   "source": [
    "# Import pandas\n",
    "import pandas as pd\n",
    "# Read in dataset\n",
    "# ...WRITE YOUR CODE FOR TASK 1 ...\n",
    "df = pd.read_csv(\"fetal_health.csv\")\n",
    "\n",
    "# Inspect data\n",
    "df"
   ]
  },
  {
   "cell_type": "markdown",
   "id": "b9448e65-7ea6-4a15-9b2c-7d486582ae09",
   "metadata": {},
   "source": [
    "## Task 2: Managing Duplicates in Fetal Health Data¶\n"
   ]
  },
  {
   "cell_type": "code",
   "execution_count": 1,
   "id": "d7bd348e-b199-472a-8b8f-06072988b1ec",
   "metadata": {},
   "outputs": [],
   "source": [
    "# ...WRITE YOUR CODE FOR TASK 2 ...\n",
    "duplicates = ...\n",
    "# Inspect data"
   ]
  },
  {
   "cell_type": "markdown",
   "id": "c5f4dc90-7866-4e5e-bbb7-4187b641d6b5",
   "metadata": {},
   "source": [
    "## Task 3: Enhancing Data Integrity"
   ]
  },
  {
   "cell_type": "code",
   "execution_count": 2,
   "id": "b0829047-af24-40a3-98f9-62d3ecafec3f",
   "metadata": {},
   "outputs": [],
   "source": [
    "# ...WRITE YOUR CODE FOR TASK 3 ...\n",
    "#df = ...\n",
    "\n",
    "# Inspect data"
   ]
  },
  {
   "cell_type": "markdown",
   "id": "c7174799-49a3-4f37-b2a2-7a2cc060479d",
   "metadata": {},
   "source": [
    "## Task 4: Managing Missing Values in Fetal Health Dataset\n"
   ]
  },
  {
   "cell_type": "code",
   "execution_count": null,
   "id": "679faa72-f47b-4ecf-b956-19f6558689f7",
   "metadata": {},
   "outputs": [],
   "source": [
    "# ...WRITE YOUR CODE FOR TASK 4 ...\n",
    "null_values = ...\n",
    "\n",
    "# Inspect data"
   ]
  },
  {
   "cell_type": "markdown",
   "id": "a67c5edf-b2e3-4d67-a9ef-e23e27183c1a",
   "metadata": {},
   "source": [
    "## Task 5: Class Distribution Analysis\n"
   ]
  },
  {
   "cell_type": "code",
   "execution_count": 3,
   "id": "88a287b8-f94e-4272-9a02-9495bd3c7060",
   "metadata": {},
   "outputs": [],
   "source": [
    "# ...WRITE YOUR CODE FOR TASK 5 ...\n",
    "values = ...\n",
    "\n",
    "# Inspect data"
   ]
  },
  {
   "cell_type": "markdown",
   "id": "d1841010-b57d-4fb5-8f93-1d46737f325f",
   "metadata": {},
   "source": [
    "# Module 2"
   ]
  },
  {
   "cell_type": "markdown",
   "id": "d2095986-10e5-48e1-9859-2cb71c26345c",
   "metadata": {},
   "source": [
    "## Task 1: Split Data into Features and Target"
   ]
  },
  {
   "cell_type": "code",
   "execution_count": 4,
   "id": "ecc1bbce-19be-406b-a2dc-e2436f80afb6",
   "metadata": {},
   "outputs": [],
   "source": [
    "# ...WRITE YOUR CODE FOR TASK 1 ...\n",
    "\n",
    "# Split into X and Y\n",
    "X = ...\n",
    "y = ...\n",
    "\n",
    "# Inspect data"
   ]
  },
  {
   "cell_type": "markdown",
   "id": "2e05ff19-79f4-4ae0-812e-29ddab59398e",
   "metadata": {},
   "source": [
    "## Task 2: Split Data into Training and Testing Sets"
   ]
  },
  {
   "cell_type": "code",
   "execution_count": 5,
   "id": "4a5a2fe8-f279-405f-a74e-a6d70aaeeafb",
   "metadata": {},
   "outputs": [],
   "source": [
    "# ...WRITE YOUR CODE FOR TASK 2 ...\n",
    "\n",
    "#x_train, x_test, y_train, y_test = \n",
    "\n",
    "# Inspect data"
   ]
  },
  {
   "cell_type": "markdown",
   "id": "70815568-3d14-4a67-a001-ecec96868fac",
   "metadata": {},
   "source": [
    "## Task 3: Train a Logistic Regression Model"
   ]
  },
  {
   "cell_type": "code",
   "execution_count": 6,
   "id": "4124c413-c3d8-421b-b124-b56607dfeedb",
   "metadata": {},
   "outputs": [],
   "source": [
    "# ...WRITE YOUR CODE FOR TASK 3 ...\n",
    "#--- Import LogisticRegression ---\n",
    "# --- import accuracy_score ---\n",
    "\n",
    "# Initiate Log Reg\n",
    "model1b = ..."
   ]
  },
  {
   "cell_type": "markdown",
   "id": "fbfc3438-bbeb-4585-8a46-93b518a64393",
   "metadata": {},
   "source": [
    "## Task 4: Make Predictions with the Trained Model"
   ]
  },
  {
   "cell_type": "code",
   "execution_count": 7,
   "id": "7b99e62a-6253-4a53-8f46-24d0c998b8a5",
   "metadata": {},
   "outputs": [],
   "source": [
    "# ...WRITE YOUR CODE FOR TASK 4 ...\n",
    "# Predict\n",
    "y_predict1b = ...\n",
    "\n",
    "# Inspect data"
   ]
  },
  {
   "cell_type": "markdown",
   "id": "c99a92d1-e82c-4957-834b-90015b767314",
   "metadata": {},
   "source": [
    "## Task 5: Calculate Model Accuracy"
   ]
  },
  {
   "cell_type": "code",
   "execution_count": 8,
   "id": "5d7eeb2a-192c-4237-80a3-7456663383c8",
   "metadata": {},
   "outputs": [],
   "source": [
    "# ...WRITE YOUR CODE FOR TASK 5 ...\n",
    "# Check Accuracy\n",
    "accuracy_lr = ...\n",
    "\n",
    "# Inspect data\n"
   ]
  },
  {
   "cell_type": "markdown",
   "id": "9739ac91-612f-4cc3-a50e-230c147ad982",
   "metadata": {},
   "source": [
    "## Task 6: Initialize a Random Forest Classifier"
   ]
  },
  {
   "cell_type": "code",
   "execution_count": 9,
   "id": "fcd60714-8492-492d-b74a-f4894f4e7921",
   "metadata": {},
   "outputs": [],
   "source": [
    "# ...WRITE YOUR CODE FOR TASK 6 ...\n",
    "#--- import RandomForestClassifier ---\n",
    "\n",
    "# Initiate with Random Forest\n",
    "model2b = ..."
   ]
  },
  {
   "cell_type": "markdown",
   "id": "b5ea65c6-e62d-4533-aede-43d7d14ae268",
   "metadata": {},
   "source": [
    "## Task 7: Train the Random Forest Classifier"
   ]
  },
  {
   "cell_type": "code",
   "execution_count": 10,
   "id": "40a8282b-19d7-41ac-884e-9592fc817a22",
   "metadata": {},
   "outputs": [],
   "source": [
    "# ...WRITE YOUR CODE FOR TASK 7 ...\n",
    "\n",
    "# Fit train data"
   ]
  },
  {
   "cell_type": "markdown",
   "id": "328febf6-ff12-432f-a581-dedacddfbca1",
   "metadata": {},
   "source": [
    "## Task 8: Make Predictions with the Random Forest Model"
   ]
  },
  {
   "cell_type": "code",
   "execution_count": 11,
   "id": "39ac1b14-0f22-496c-b350-2d01ab3233fc",
   "metadata": {},
   "outputs": [],
   "source": [
    "# ...WRITE YOUR CODE FOR TASK 8 ...\n",
    "\n",
    "# Make Prediction\n",
    "y_pred2b = ...\n",
    "\n",
    "# Inspect data"
   ]
  },
  {
   "cell_type": "markdown",
   "id": "89157e32-65c1-48dc-8715-ab9369400acb",
   "metadata": {},
   "source": [
    "## Task 9: Calculate Accuracy of the Random Forest Model"
   ]
  },
  {
   "cell_type": "code",
   "execution_count": 12,
   "id": "2158ef80-3256-41fc-8d44-e0a021cb289c",
   "metadata": {},
   "outputs": [],
   "source": [
    "# ...WRITE YOUR CODE FOR TASK 9 ...\n",
    "# Check Accuracy\n",
    "accuracy_rf = ...\n",
    "\n",
    "# Inspect data"
   ]
  },
  {
   "cell_type": "markdown",
   "id": "e694210a-cac4-4312-a855-80ed0a61004f",
   "metadata": {},
   "source": [
    "## Task 10: Initialize a Decision Tree Classifier"
   ]
  },
  {
   "cell_type": "code",
   "execution_count": 13,
   "id": "caedb8e6-043f-4cd7-9c64-d9471b335aa8",
   "metadata": {},
   "outputs": [],
   "source": [
    "# ...WRITE YOUR CODE FOR TASK 10 ...\n",
    "#--- import DecisionTreeClassifier ---\n",
    "\n",
    "# Initiate Decision Tree\n",
    "model3b = ..."
   ]
  },
  {
   "cell_type": "markdown",
   "id": "68d9c97c-ea91-47b4-852a-2efe58c7354f",
   "metadata": {},
   "source": [
    "## Task 11: Train the Decision Tree Classifier\n"
   ]
  },
  {
   "cell_type": "code",
   "execution_count": 14,
   "id": "b82c36af-e81a-4c59-a55b-8672aae521b1",
   "metadata": {},
   "outputs": [],
   "source": [
    "# ...WRITE YOUR CODE FOR TASK 11 ...\n",
    "# Fit Model\n"
   ]
  },
  {
   "cell_type": "markdown",
   "id": "c984244e-e15d-496b-a363-4a4d3e99cb3a",
   "metadata": {},
   "source": [
    "## Task 12: Make Predictions with the Decision Tree Model"
   ]
  },
  {
   "cell_type": "code",
   "execution_count": 15,
   "id": "35aee8b6-e62c-40a3-837d-70bb5d204773",
   "metadata": {},
   "outputs": [],
   "source": [
    "# ...WRITE YOUR CODE FOR TASK 12 ...\n",
    "\n",
    "# Make Predictions\n",
    "y_pred3b = ...\n"
   ]
  },
  {
   "cell_type": "markdown",
   "id": "44735953-7d31-4009-b541-8d2973b3a01e",
   "metadata": {},
   "source": [
    "## Task 13: Calculate Accuracy of the Decision Tree Model"
   ]
  },
  {
   "cell_type": "code",
   "execution_count": 16,
   "id": "fe5b323f-e44f-4ca2-bffc-ac4821f84f56",
   "metadata": {},
   "outputs": [],
   "source": [
    "# ...WRITE YOUR CODE FOR TASK 13 ...\n",
    "# Check Accuracy Score\n",
    "accuracy_dt = ...\n",
    "\n",
    "# Inspect data"
   ]
  },
  {
   "cell_type": "markdown",
   "id": "fb06b644-26cd-4836-9845-96f67357923e",
   "metadata": {},
   "source": [
    "# Module 3"
   ]
  },
  {
   "cell_type": "markdown",
   "id": "65a2db66-77a2-48af-9f0c-c89f688be56f",
   "metadata": {},
   "source": [
    "## Task 1: Model Performance Unveiled: Assessing Fetal Health Predictions"
   ]
  },
  {
   "cell_type": "code",
   "execution_count": 17,
   "id": "02093736-e408-408b-8f65-1e4ad39d9210",
   "metadata": {},
   "outputs": [],
   "source": [
    "# ...WRITE YOUR CODE FOR TASK 1 ...\n",
    "\n",
    "prediction_df = ...\n",
    "\n",
    "# Inspect data"
   ]
  }
 ],
 "metadata": {
  "kernelspec": {
   "display_name": "Python 3 (ipykernel)",
   "language": "python",
   "name": "python3"
  },
  "language_info": {
   "codemirror_mode": {
    "name": "ipython",
    "version": 3
   },
   "file_extension": ".py",
   "mimetype": "text/x-python",
   "name": "python",
   "nbconvert_exporter": "python",
   "pygments_lexer": "ipython3",
   "version": "3.12.4"
  },
  "widgets": {
   "application/vnd.jupyter.widget-state+json": {
    "state": {},
    "version_major": 2,
    "version_minor": 0
   }
  }
 },
 "nbformat": 4,
 "nbformat_minor": 5
}
